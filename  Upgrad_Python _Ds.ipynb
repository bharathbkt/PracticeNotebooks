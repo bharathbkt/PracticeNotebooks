{
 "cells": [
  {
   "cell_type": "code",
   "execution_count": 2,
   "metadata": {},
   "outputs": [
    {
     "data": {
      "text/plain": [
       "4"
      ]
     },
     "execution_count": 2,
     "metadata": {},
     "output_type": "execute_result"
    }
   ],
   "source": [
    "d=23//5     #perator returns quotient after division. Think of this as integer division, where the float part of the division is neglected.\n",
    "d"
   ]
  },
  {
   "cell_type": "code",
   "execution_count": 3,
   "metadata": {},
   "outputs": [
    {
     "ename": "IndentationError",
     "evalue": "expected an indented block (<ipython-input-3-ff38c761a243>, line 3)",
     "output_type": "error",
     "traceback": [
      "\u001b[0;36m  File \u001b[0;32m\"<ipython-input-3-ff38c761a243>\"\u001b[0;36m, line \u001b[0;32m3\u001b[0m\n\u001b[0;31m    print (True)\u001b[0m\n\u001b[0m    ^\u001b[0m\n\u001b[0;31mIndentationError\u001b[0m\u001b[0;31m:\u001b[0m expected an indented block\n"
     ]
    }
   ],
   "source": [
    "if (1):\n",
    "\n",
    "print (True)"
   ]
  },
  {
   "cell_type": "code",
   "execution_count": 4,
   "metadata": {},
   "outputs": [
    {
     "name": "stdout",
     "output_type": "stream",
     "text": [
      "True\n"
     ]
    }
   ],
   "source": [
    "if (1):\n",
    "\n",
    "    print (True)"
   ]
  },
  {
   "cell_type": "code",
   "execution_count": 5,
   "metadata": {},
   "outputs": [
    {
     "ename": "SyntaxError",
     "evalue": "invalid syntax (<ipython-input-5-928f6ca5e5e8>, line 1)",
     "output_type": "error",
     "traceback": [
      "\u001b[0;36m  File \u001b[0;32m\"<ipython-input-5-928f6ca5e5e8>\"\u001b[0;36m, line \u001b[0;32m1\u001b[0m\n\u001b[0;31m    if (1) print(True)\u001b[0m\n\u001b[0m           ^\u001b[0m\n\u001b[0;31mSyntaxError\u001b[0m\u001b[0;31m:\u001b[0m invalid syntax\n"
     ]
    }
   ],
   "source": [
    "if (1) print(True)"
   ]
  },
  {
   "cell_type": "code",
   "execution_count": 6,
   "metadata": {},
   "outputs": [
    {
     "name": "stdout",
     "output_type": "stream",
     "text": [
      "True\n"
     ]
    }
   ],
   "source": [
    "if (-1):\n",
    "\n",
    "    print('True')"
   ]
  },
  {
   "cell_type": "code",
   "execution_count": 7,
   "metadata": {},
   "outputs": [
    {
     "name": "stdout",
     "output_type": "stream",
     "text": [
      "True\n"
     ]
    }
   ],
   "source": [
    "if (1):\n",
    "\n",
    "    print ('True')\n",
    "\n"
   ]
  },
  {
   "cell_type": "code",
   "execution_count": 8,
   "metadata": {},
   "outputs": [
    {
     "ename": "SyntaxError",
     "evalue": "invalid syntax (<ipython-input-8-bb9305b141cc>, line 1)",
     "output_type": "error",
     "traceback": [
      "\u001b[0;36m  File \u001b[0;32m\"<ipython-input-8-bb9305b141cc>\"\u001b[0;36m, line \u001b[0;32m1\u001b[0m\n\u001b[0;31m    if (1)\u001b[0m\n\u001b[0m          ^\u001b[0m\n\u001b[0;31mSyntaxError\u001b[0m\u001b[0;31m:\u001b[0m invalid syntax\n"
     ]
    }
   ],
   "source": [
    "if (1)\n",
    "\n",
    "    print (True)"
   ]
  },
  {
   "cell_type": "code",
   "execution_count": 9,
   "metadata": {},
   "outputs": [
    {
     "name": "stdout",
     "output_type": "stream",
     "text": [
      "0\n",
      "1\n",
      "2\n"
     ]
    }
   ],
   "source": [
    "for i in range(3):\n",
    "    print(i)"
   ]
  },
  {
   "cell_type": "code",
   "execution_count": 10,
   "metadata": {},
   "outputs": [
    {
     "name": "stdout",
     "output_type": "stream",
     "text": [
      "11 12 13\n",
      "14\n"
     ]
    }
   ],
   "source": [
    "a=11\n",
    "\n",
    "b=12\n",
    "\n",
    "c=13 \n",
    "\n",
    "d=14\n",
    "\n",
    "print('{0} {1} {2}'.format(a,b,c) )\n",
    "\n",
    "print(d)"
   ]
  },
  {
   "cell_type": "code",
   "execution_count": 11,
   "metadata": {},
   "outputs": [
    {
     "name": "stdout",
     "output_type": "stream",
     "text": [
      "11 12 13\n",
      "14\n"
     ]
    }
   ],
   "source": [
    "a=11\n",
    "\n",
    "b=12\n",
    "\n",
    "c=13 \n",
    "\n",
    "d=14\n",
    "\n",
    "print('%d %d %d' %(a,b,c))\n",
    "\n",
    "print(d)\n",
    "\n"
   ]
  },
  {
   "cell_type": "code",
   "execution_count": 12,
   "metadata": {},
   "outputs": [
    {
     "name": "stdout",
     "output_type": "stream",
     "text": [
      "111213\n",
      "14\n"
     ]
    }
   ],
   "source": [
    "a=11\n",
    "\n",
    "b=12\n",
    "\n",
    "c=13 \n",
    "\n",
    "d=14\n",
    "\n",
    "print(f'{a}{b}{c}')\n",
    "\n",
    "print(d)"
   ]
  },
  {
   "cell_type": "code",
   "execution_count": 13,
   "metadata": {},
   "outputs": [
    {
     "name": "stdout",
     "output_type": "stream",
     "text": [
      "11 12 13\n",
      "14\n"
     ]
    }
   ],
   "source": [
    "a=11       #The default separator while printing while passing multiple arguments is ' '. \n",
    "\n",
    "b=12\n",
    "\n",
    "c=13 \n",
    "\n",
    "d=14\n",
    "\n",
    "print(a,b,c)\n",
    "\n",
    "print(d)"
   ]
  },
  {
   "cell_type": "code",
   "execution_count": 14,
   "metadata": {},
   "outputs": [
    {
     "name": "stdout",
     "output_type": "stream",
     "text": [
      "11 12 13 \n",
      "14\n"
     ]
    }
   ],
   "source": [
    "print('11 12 13 \\n14')  #\\n acts as a new line character."
   ]
  },
  {
   "cell_type": "code",
   "execution_count": 9,
   "metadata": {},
   "outputs": [
    {
     "name": "stdout",
     "output_type": "stream",
     "text": [
      "20,30\n",
      "['20', '30']\n",
      "['30', '20']\n"
     ]
    }
   ],
   "source": [
    "in_string=input()\n",
    "\n",
    "list = in_string.split(\",\")\n",
    "print(list)\n",
    "#x= int(list[0])\n",
    "#y= int(list[1])\n",
    "\n",
    "list.reverse()\n",
    "print(list)"
   ]
  },
  {
   "cell_type": "code",
   "execution_count": 11,
   "metadata": {},
   "outputs": [
    {
     "name": "stdout",
     "output_type": "stream",
     "text": [
      "20,50\n",
      "x before swapping: 20\n",
      "y before swapping: 50\n",
      "1000\n",
      "\n",
      "x after swapping: 50\n",
      "y after swapping: 20\n"
     ]
    }
   ],
   "source": [
    "in_string=input()\n",
    "\n",
    "list = in_string.split(\",\")\n",
    "#here extract the two numbers from the string\n",
    "x= int(list[0])\n",
    "y=int(list[1])\n",
    "\n",
    "#print x and y before swapping\n",
    "print('x before swapping: {0}'.format(x))\n",
    "print('y before swapping: {0}'.format(y))\n",
    "\n",
    "\n",
    "#Writing your swapping code here\n",
    "z=x*y\n",
    "print(z)\n",
    "x=int(z/x)\n",
    "y=int(z/y)\n",
    "print()\n",
    "#print x and y after swapping\n",
    "print('x after swapping: {0}'.format(x))\n",
    "print('y after swapping: {0}'.format(y))\n"
   ]
  },
  {
   "cell_type": "code",
   "execution_count": 27,
   "metadata": {},
   "outputs": [
    {
     "name": "stdout",
     "output_type": "stream",
     "text": [
      "23\n",
      "2\n",
      "pretty\n"
     ]
    }
   ],
   "source": [
    "k= int(input())\n",
    "n= k%3\n",
    "print(n)\n",
    "if (n == 0):\n",
    "     print(\"sexy\")\n",
    "elif ((n ==1)):\n",
    "        print(\"beautiful\") \n",
    "elif((n == 2)):\n",
    "        print(\"pretty\")\n",
    "\n"
   ]
  },
  {
   "cell_type": "code",
   "execution_count": 40,
   "metadata": {},
   "outputs": [
    {
     "name": "stdout",
     "output_type": "stream",
     "text": [
      "1,False\n"
     ]
    },
    {
     "data": {
      "text/plain": [
       "'7:00'"
      ]
     },
     "execution_count": 40,
     "metadata": {},
     "output_type": "execute_result"
    }
   ],
   "source": [
    "import ast\n",
    "input_str = input()\n",
    "\n",
    "#ast.literal_eval() will evaluate the string and make a data structure for the same\n",
    "#here the input is a list since input is in '[...]', so ast.literal_eval() will\n",
    "#make a list with the same data as passed\n",
    "input_list = ast.literal_eval(input_str)\n",
    "\n",
    "#the data or the two values in list is now changed to separate variables\n",
    "day_of_the_week = input_list[0] #first element is an integer denoting the day of the week\n",
    "is_on_vacation = input_list[1] #this is a boolean denoting if its vacation or not\n",
    "\n",
    "# write your code here\n",
    "\n",
    "def alarm_time(day_of_the_week, is_on_vacation):\n",
    "    weekend = [6,7]\n",
    "    \n",
    "    if  is_on_vacation:\n",
    "        if day_of_the_week in weekend:\n",
    "            return 'off'\n",
    "        \n",
    "        else:\n",
    "            return \"10:00\"\n",
    "   \n",
    "    else:\n",
    "         if day_of_the_week not in weekend:\n",
    "            return \"7:00\"\n",
    "         else:\n",
    "            return \"10:00\"\n",
    "        \n",
    "x=alarm_time(day_of_the_week, is_on_vacation)\n",
    "print(x)\n",
    "        \n",
    "     \n",
    "    \n",
    "\n",
    "\n",
    "\n",
    "\n",
    "\n",
    "\n"
   ]
  },
  {
   "cell_type": "code",
   "execution_count": 41,
   "metadata": {},
   "outputs": [
    {
     "data": {
      "text/plain": [
       "2401"
      ]
     },
     "execution_count": 41,
     "metadata": {},
     "output_type": "execute_result"
    }
   ],
   "source": [
    "x=7**4\n",
    "x"
   ]
  },
  {
   "cell_type": "code",
   "execution_count": 42,
   "metadata": {},
   "outputs": [
    {
     "data": {
      "text/plain": [
       "['Hi', 'There', 'sam!']"
      ]
     },
     "execution_count": 42,
     "metadata": {},
     "output_type": "execute_result"
    }
   ],
   "source": [
    "s= \"Hi There sam!\"\n",
    "list= s.split(' ')\n",
    "list"
   ]
  },
  {
   "cell_type": "code",
   "execution_count": 2,
   "metadata": {},
   "outputs": [
    {
     "name": "stdout",
     "output_type": "stream",
     "text": [
      "The diameter of Earth is 12742 kilometers\n"
     ]
    }
   ],
   "source": [
    "planet = \"Earth\"\n",
    "diameter = 12742\n",
    "#Use .format() to print the following string: \n",
    "#The diameter of Earth is 12742 kilometers.\n",
    "\n",
    "\n",
    "print('The diameter of {} is {} kilometers'.format(planet,diameter))"
   ]
  },
  {
   "cell_type": "code",
   "execution_count": 53,
   "metadata": {},
   "outputs": [
    {
     "name": "stdout",
     "output_type": "stream",
     "text": [
      "hello\n"
     ]
    }
   ],
   "source": [
    "\n",
    "lst = [1,2,[3,4],[5,[100,200,['hello']],23,11],1,7]\n",
    "\n",
    "print(lst[3][1][2][0])\n",
    "\n"
   ]
  },
  {
   "cell_type": "code",
   "execution_count": 3,
   "metadata": {},
   "outputs": [
    {
     "name": "stdout",
     "output_type": "stream",
     "text": [
      "5\n",
      "120\n"
     ]
    }
   ],
   "source": [
    "\n",
    "\n",
    "#factorial\n",
    "\n",
    "num=int(input())\n",
    "\n",
    "\n",
    "def factorial(n):\n",
    "    if n<0:\n",
    "            return -1\n",
    "        \n",
    "    elif n==0:\n",
    "        return 1\n",
    "    else:\n",
    "        f=1\n",
    "        for i in range(1,n+1):\n",
    "                f=f*i\n",
    "            \n",
    "        return f\n",
    "                 \n",
    "                 \n",
    "k=factorial(num)  \n",
    "print(k)\n"
   ]
  },
  {
   "cell_type": "code",
   "execution_count": 4,
   "metadata": {},
   "outputs": [
    {
     "name": "stdout",
     "output_type": "stream",
     "text": [
      "12345\n",
      "54321\n"
     ]
    }
   ],
   "source": [
    "#reverse number\n",
    "\n",
    "n=int(input())\n",
    "r=0\n",
    "while(n>0):\n",
    "    r= r*10 + n%10\n",
    "    n= n//10\n",
    "    \n",
    "print(r)    \n",
    "    "
   ]
  },
  {
   "cell_type": "code",
   "execution_count": 5,
   "metadata": {},
   "outputs": [
    {
     "name": "stdout",
     "output_type": "stream",
     "text": [
      "15,2,3\n",
      "10\n"
     ]
    }
   ],
   "source": [
    "#Sanjay loves chocolates. He goes to a shop to buy his favourite chocolate. There he notices there is an offer going on, upon bringing 3 wrappers of the same chocolate, you will get new chocolate for free. If Sanjay has m Rupees. How many chocolates will he be able to eat if each chocolate costs c Rupees?\n",
    "\n",
    "#Input:\n",
    "#Two positive integers m and c separated by a comma. The first integer is m and the second integer is c \n",
    "\n",
    "#Output:\n",
    "#A single integer denoting the number of chocolates Sanjay was able to eat in total.\n",
    "\n",
    "s= input()\n",
    "l= s.split(',')\n",
    "m= int(l[0])\n",
    "c= int(l[1])\n",
    "r= int(l[2])\n",
    "choc = m//c\n",
    "w = m//c\n",
    "\n",
    "while(w//r!=0):\n",
    "    choc = choc+w//r\n",
    "    w = w//r+w%r\n",
    "    \n",
    "    \n",
    "print(choc)\n",
    "    \n",
    "\n"
   ]
  },
  {
   "cell_type": "code",
   "execution_count": 6,
   "metadata": {},
   "outputs": [
    {
     "name": "stdout",
     "output_type": "stream",
     "text": [
      "5\n",
      "    *\n",
      "   *_*\n",
      "  *_*_*\n",
      " *_*_*_*\n",
      "*_*_*_*_*\n"
     ]
    }
   ],
   "source": [
    "n = int(input())\n",
    "\n",
    "for i in range(1,n+1):\n",
    "    for j in range(n-i):\n",
    "        print(' ',end='')\n",
    "    for k in range(i-1):\n",
    "        \n",
    "        print('*_',end='')\n",
    "        \n",
    "    print('*')        "
   ]
  },
  {
   "cell_type": "code",
   "execution_count": 7,
   "metadata": {},
   "outputs": [
    {
     "name": "stdout",
     "output_type": "stream",
     "text": [
      "Enter a size: 5\n",
      "--------e--------\n",
      "------e-d-e------\n",
      "----e-d-c-d-e----\n",
      "--e-d-c-b-c-d-e--\n",
      "e-d-c-b-a-b-c-d-e\n",
      "--e-d-c-b-c-d-e--\n",
      "----e-d-c-d-e----\n",
      "------e-d-e------\n",
      "--------e--------\n"
     ]
    }
   ],
   "source": [
    "n = int(input('Enter a size: '))\n",
    "\n",
    "alpha = [chr(ord('a') + i) for i in range(0, 26)]\n",
    "\n",
    "for k in range(1 - n, n):\n",
    "    j = n - abs(k)   \n",
    "    center = '-'.join(alpha[n-1:n-j:-1] + alpha[n-j:n])\n",
    "    padding = '-' * abs(k) * 2\n",
    "    print(padding + center + padding)\n"
   ]
  },
  {
   "cell_type": "code",
   "execution_count": null,
   "metadata": {
    "scrolled": false
   },
   "outputs": [],
   "source": [
    "inp=input()\n",
    "l=len(inp)\n",
    "k= int(inp)\n",
    "s = 0\n",
    "print(\"result:\")\n",
    "while k>0:\n",
    "    r= k%10\n",
    "    k= k//10\n",
    "    R=r**l\n",
    "    s+=R\n",
    "\n",
    "if(s == int(inp)):\n",
    "    print (\"True\")\n",
    "else:\n",
    "    print(\"False\")\n",
    "\n",
    "    \n",
    "\n",
    "        "
   ]
  },
  {
   "cell_type": "code",
   "execution_count": 1,
   "metadata": {},
   "outputs": [
    {
     "name": "stdout",
     "output_type": "stream",
     "text": [
      "5\n",
      "0\n",
      "1\n",
      "3\n",
      "5\n",
      "7\n"
     ]
    }
   ],
   "source": [
    "n = int(input())\n",
    "c=1\n",
    "p = 0\n",
    "#print(c)\n",
    "c1 = 0\n",
    "while c1<n:\n",
    "    #if(c == 0):\n",
    "    #    print(c)\n",
    "    c1 = c1 + 1\n",
    "    \n",
    "    print (c+p)\n",
    "    p = c\n",
    "    c = c+1\n",
    "   \n",
    "\n",
    "    \n",
    "    \n",
    "\n",
    "    \n"
   ]
  },
  {
   "cell_type": "code",
   "execution_count": null,
   "metadata": {},
   "outputs": [],
   "source": [
    "n = int(input())\n",
    "x =0\n",
    "y = 1\n",
    "z = 0\n",
    "count = 0\n",
    "while count<n:\n",
    "    count = count+1\n",
    "    z = x+ y\n",
    "    print (x)\n",
    "    x = y\n",
    "    y = z\n",
    "\n",
    "    "
   ]
  },
  {
   "cell_type": "code",
   "execution_count": 7,
   "metadata": {},
   "outputs": [
    {
     "name": "stdout",
     "output_type": "stream",
     "text": [
      "How many terms? 6\n",
      "Fibonacci sequence:\n",
      "0\n",
      "1\n",
      "1\n",
      "2\n",
      "3\n",
      "5\n",
      "8\n"
     ]
    }
   ],
   "source": [
    "n = int(input(\"How many terms? \"))\n",
    "\n",
    "# first two terms\n",
    "x, y = 0, 1\n",
    "count = 0\n",
    "\n",
    "\n",
    "print(\"Fibonacci sequence:\")\n",
    "while count <= n:\n",
    "    print(x)\n",
    "    z = x + y\n",
    "    # update values\n",
    "    x = y\n",
    "    y = z\n",
    "    count += 1"
   ]
  },
  {
   "cell_type": "code",
   "execution_count": 24,
   "metadata": {},
   "outputs": [],
   "source": [
    "def IsPrime(n):\n",
    "#n = int(input(\"How many numbers? \"))\n",
    "    #count = 1\n",
    "    ret = 0\n",
    "    for i in range(2, n):\n",
    "        if(n%i == 0):\n",
    "            break;\n",
    "    else:\n",
    "        ret = n\n",
    "\n",
    "    return ret\n",
    "\n"
   ]
  },
  {
   "cell_type": "code",
   "execution_count": 61,
   "metadata": {
    "scrolled": true
   },
   "outputs": [
    {
     "name": "stdout",
     "output_type": "stream",
     "text": [
      "17\n"
     ]
    }
   ],
   "source": [
    "sum = 0\n",
    "for i in range(2, n):\n",
    "    sum+=IsPrime(i)\n",
    "    \n",
    "print (sum)"
   ]
  },
  {
   "cell_type": "code",
   "execution_count": 62,
   "metadata": {},
   "outputs": [
    {
     "name": "stdout",
     "output_type": "stream",
     "text": [
      "[False, True, True, False, True, True, True, True]\n"
     ]
    }
   ],
   "source": [
    "n = 10\n",
    "printlist = []\n",
    "printlist = [(lambda x: n%x != 0)(x) for x in range(2, n)]\n",
    "print(printlist)"
   ]
  },
  {
   "cell_type": "code",
   "execution_count": 1,
   "metadata": {},
   "outputs": [
    {
     "name": "stdout",
     "output_type": "stream",
     "text": [
      "10\n"
     ]
    },
    {
     "data": {
      "text/plain": [
       "17"
      ]
     },
     "execution_count": 1,
     "metadata": {},
     "output_type": "execute_result"
    }
   ],
   "source": [
    "n = int(input())\n",
    "\n",
    "n_prime_sum = 0\n",
    "n_prime_sum = sum(list(filter(lambda n: all(n%y != 0 for y in range(2,n)), range(2,n+1))))\n",
    "n_prime_sum"
   ]
  },
  {
   "cell_type": "code",
   "execution_count": 45,
   "metadata": {},
   "outputs": [
    {
     "name": "stdout",
     "output_type": "stream",
     "text": [
      "<filter object at 0x7fd96e045d90>\n"
     ]
    }
   ],
   "source": [
    "n = 10\n",
    "printlist = []\n",
    "printlist = filter(lambda x: n%x != 0)(x) for x in range(2, n),range(2, n)) \n",
    "print(printlist)"
   ]
  },
  {
   "cell_type": "code",
   "execution_count": 56,
   "metadata": {},
   "outputs": [
    {
     "data": {
      "text/plain": [
       "17"
      ]
     },
     "execution_count": 56,
     "metadata": {},
     "output_type": "execute_result"
    }
   ],
   "source": [
    "n = 10\n",
    "n_prime_sum = sum(list(filter(lambda x: IsPrime(x), range(2,n+1))))\n",
    "\n",
    "n_prime_sum"
   ]
  },
  {
   "cell_type": "code",
   "execution_count": 4,
   "metadata": {},
   "outputs": [
    {
     "name": "stdout",
     "output_type": "stream",
     "text": [
      "15,2,3,1\n",
      "1\n",
      "0\n"
     ]
    }
   ],
   "source": [
    "s= input()\n",
    "l= s.split(',')\n",
    "m= int(l[0])\n",
    "c= int(l[1])\n",
    "Exch_W= int(l[2])\n",
    "R_c= int(l[3])\n",
    "\n",
    "Tchoc  = m//c\n",
    "Tw = m//c\n",
    "f_c = (Tchoc//Exch_W)\n",
    "F_c_w =f_c\n",
    "\n",
    "#Left_W = (Tw - (Tw%Exch_W))\n",
    "Left_W = (Tw - (Exch_W * f_c))\n",
    "print(Left_W)\n",
    "choc = 0   \n",
    "       #3        #3\n",
    "      #1        #3\n",
    "while(Left_W >= Exch_W):\n",
    "    \n",
    "    f_c=Tchoc//Exch_W  #1 7//3=2  3//3=1\n",
    "    \n",
    "    Left_Choc= (Tchoc - (Exch_W * f_c)) #7-(3*2)=1   3-(3*1)=0\n",
    "    \n",
    "    reamaining_choc =  Left_Choc+f_c #1+2=3 0+1=1\n",
    "    if(choc == 0):\n",
    "        print (Tchoc)\n",
    "        print (f_c)\n",
    "        print (choc)\n",
    "        choc = Tchoc+f_c    #1 7+2=9\n",
    "    else:\n",
    "        print (choc)\n",
    "        print (f_c)\n",
    "        choc = f_c\n",
    "    Tchoc = reamaining_choc  #3\n",
    "    Left_W =  remaining_Choc #1+2=3\n",
    "    \n",
    "print(choc)\n",
    "    \n",
    "    \n",
    "    \n",
    "    #Tchoc = Tchoc+f_c    #1 7+2=9\n",
    "    #Left_W = (Tw - (Exch_W * f_c))  #7-(3*2)=1\n",
    "    #Left_W += F_c  #1+2=3\n",
    "    #Left_W = (F_c_w+Left_W)%Exch_W\n",
    "\n",
    "#else:\n",
    "    #choc = Tchoc+(Tchoc//Exch_W)\n",
    "    #print(choc)\n",
    "\n",
    "#while(Left_W >= Exch_W):\n",
    "#choc = Tchoc+(Left_W+F_c_w)//Exch_W\n",
    "   # w = w//r+w%r\n",
    "    \n",
    "    \n",
    "#print(choc)"
   ]
  },
  {
   "cell_type": "markdown",
   "metadata": {},
   "source": [
    "Earlier you solved the chocolate problem where Sanjay had m rupees and cost of each chocolate was c rupees. Shopkeeper gave away one chocolate for three wrappers. In this problem lets generalise the question saying, Sanjay has m rupees, each chocolate costs c rupees, shopkeeper will give away k chocolates for w wrappers. Can you find now how many chocolates Sanjay will be able to eat?\n",
    "Sample input:\n",
    "\n",
    "15, 2, 3, 1\n",
    "\n",
    "\n",
    "\n",
    "Sample output:\n",
    "\n",
    "10\n",
    "\n",
    "\n"
   ]
  },
  {
   "cell_type": "code",
   "execution_count": 5,
   "metadata": {},
   "outputs": [
    {
     "name": "stdout",
     "output_type": "stream",
     "text": [
      "15,2,3,2\n",
      "17\n"
     ]
    }
   ],
   "source": [
    "#money=money,cost= cost per choclate,Exch_W = to get free choclate exchange wrappers \n",
    "#F_c= Free Choclates, lwrap Leftover Wrappers(intially = total choclates)\n",
    "\n",
    "\n",
    "s= input()          \n",
    "l= s.split(',')\n",
    "money= int(l[0])\n",
    "cost= int(l[1])\n",
    "Exch_W= int(l[2])\n",
    "F_c= int(l[3])\n",
    "\n",
    "choc = money // cost\n",
    "lWrap = choc\n",
    "\n",
    "while(lWrap >= Exch_W):\n",
    "    x = (lWrap // Exch_W) * F_c\n",
    "    choc += x\n",
    "    lWrap = (lWrap - (Exch_W * (lWrap // Exch_W)))\n",
    "    lWrap += x\n",
    "\n",
    "print(choc)"
   ]
  },
  {
   "cell_type": "code",
   "execution_count": 8,
   "metadata": {},
   "outputs": [
    {
     "data": {
      "text/plain": [
       "['15', '2', '3', '2']"
      ]
     },
     "execution_count": 8,
     "metadata": {},
     "output_type": "execute_result"
    }
   ],
   "source": [
    "L = [i for i in range(1, 5)]\n",
    "l"
   ]
  },
  {
   "cell_type": "code",
   "execution_count": 9,
   "metadata": {},
   "outputs": [
    {
     "ename": "SyntaxError",
     "evalue": "invalid syntax (<ipython-input-9-7925f097750e>, line 1)",
     "output_type": "error",
     "traceback": [
      "\u001b[0;36m  File \u001b[0;32m\"<ipython-input-9-7925f097750e>\"\u001b[0;36m, line \u001b[0;32m1\u001b[0m\n\u001b[0;31m    L = [for i in range(1, 5) i]\u001b[0m\n\u001b[0m         ^\u001b[0m\n\u001b[0;31mSyntaxError\u001b[0m\u001b[0;31m:\u001b[0m invalid syntax\n"
     ]
    }
   ],
   "source": [
    "L = [for i in range(1, 5) i]"
   ]
  },
  {
   "cell_type": "code",
   "execution_count": 10,
   "metadata": {},
   "outputs": [
    {
     "ename": "SyntaxError",
     "evalue": "invalid syntax (<ipython-input-10-085a391b637e>, line 1)",
     "output_type": "error",
     "traceback": [
      "\u001b[0;36m  File \u001b[0;32m\"<ipython-input-10-085a391b637e>\"\u001b[0;36m, line \u001b[0;32m1\u001b[0m\n\u001b[0;31m    L = [for i in range(1, 5): i]\u001b[0m\n\u001b[0m         ^\u001b[0m\n\u001b[0;31mSyntaxError\u001b[0m\u001b[0;31m:\u001b[0m invalid syntax\n"
     ]
    }
   ],
   "source": [
    "L = [for i in range(1, 5): i]\n",
    "\n",
    "\n"
   ]
  },
  {
   "cell_type": "code",
   "execution_count": 16,
   "metadata": {},
   "outputs": [
    {
     "name": "stdout",
     "output_type": "stream",
     "text": [
      "True\n"
     ]
    }
   ],
   "source": [
    "L = [2, 1, 2, 4, 5, 3, 6]\n",
    "K = 4 in L\n",
    "print (K)"
   ]
  },
  {
   "cell_type": "code",
   "execution_count": 26,
   "metadata": {},
   "outputs": [
    {
     "data": {
      "text/plain": [
       "[20, 40, 60, 80, 100]"
      ]
     },
     "execution_count": 26,
     "metadata": {},
     "output_type": "execute_result"
    }
   ],
   "source": [
    "L=[10,20,30,40,50,60,70,80,90,100,101,102]\n",
    "L[1:-1:2]\n"
   ]
  },
  {
   "cell_type": "code",
   "execution_count": 27,
   "metadata": {},
   "outputs": [
    {
     "data": {
      "text/plain": [
       "[20, 40, 60, 80]"
      ]
     },
     "execution_count": 27,
     "metadata": {},
     "output_type": "execute_result"
    }
   ],
   "source": [
    "[L[i] for i in range(1,9,2)]\n"
   ]
  },
  {
   "cell_type": "code",
   "execution_count": null,
   "metadata": {},
   "outputs": [],
   "source": []
  },
  {
   "cell_type": "code",
   "execution_count": 1,
   "metadata": {},
   "outputs": [
    {
     "name": "stdout",
     "output_type": "stream",
     "text": [
      "[45, 35, 25, [10, 20, 30]]\n"
     ]
    }
   ],
   "source": [
    "A = [10, 20, 30] \n",
    "B = [45, 35, 25]\n",
    "\n",
    "B.append(A)\n",
    "\n",
    "\n",
    "print(B)\n"
   ]
  },
  {
   "cell_type": "code",
   "execution_count": 33,
   "metadata": {},
   "outputs": [
    {
     "data": {
      "text/plain": [
       "[None, None, None, None, None, None]"
      ]
     },
     "execution_count": 33,
     "metadata": {},
     "output_type": "execute_result"
    }
   ],
   "source": []
  },
  {
   "cell_type": "code",
   "execution_count": 8,
   "metadata": {},
   "outputs": [
    {
     "name": "stdout",
     "output_type": "stream",
     "text": [
      "6.0\n",
      "T\n"
     ]
    }
   ],
   "source": [
    "#import ast\n",
    "#input_str=input()\n",
    "\n",
    "#input_list=ast.literal_eval(input_str)\n",
    "\n",
    "input_list=[[2,4,6,8,10],4]\n",
    "\n",
    "data= input_list[0]\n",
    "check= input_list[1]\n",
    "sum=0\n",
    "for item in data:\n",
    "    sum += item\n",
    "   \n",
    "avg = (sum/len(data))\n",
    "print(avg)\n",
    "if check >avg:\n",
    "    print(\"True\")\n",
    "else:\n",
    "    print(\"False\")\n",
    "    \n",
    "print (\"The sum of the list elements is : \",end=\"\") \n",
    "print (functools.reduce(lambda a,b : a+b,input_list)) "
   ]
  },
  {
   "cell_type": "code",
   "execution_count": 18,
   "metadata": {},
   "outputs": [
    {
     "name": "stdout",
     "output_type": "stream",
     "text": [
      "[2, 6, 12, 20, 30]\n"
     ]
    }
   ],
   "source": [
    "#from itertools import accumulate\n",
    "#from functools import reduce\n",
    "input_list=[[2,4,6,8,10],4]\n",
    "\n",
    "data= input_list[0]\n",
    "check= input_list[1]\n",
    "\n",
    "\n",
    "print(reduce(lambda a,b : a+b,data))\n",
    "\n",
    "print (list(accumulate(data,lambda x,y : x+y))) "
   ]
  },
  {
   "cell_type": "code",
   "execution_count": 10,
   "metadata": {},
   "outputs": [
    {
     "name": "stdout",
     "output_type": "stream",
     "text": [
      "[23, 45, 34, 76, 70, 94]\n"
     ]
    }
   ],
   "source": [
    "\n",
    "\n",
    "\n",
    "team=[23,45,34,76]\n",
    "applicant=[70,34,94]\n",
    "\n",
    "def check_above_avg(data,check):\n",
    "    \n",
    "    s = 0\n",
    "    for item in data:\n",
    "        s= s + item\n",
    "    \n",
    "    avg = s/len(data)\n",
    "    if check > avg:\n",
    "        return 1\n",
    "    else:\n",
    "        return 0\n",
    "            \n",
    "\n",
    "for appl in applicant:\n",
    "    is_add = check_above_avg(team,appl)\n",
    "    if is_add==1:\n",
    "        team.append(appl)\n",
    "            \n",
    "print(team)            "
   ]
  },
  {
   "cell_type": "code",
   "execution_count": 13,
   "metadata": {},
   "outputs": [
    {
     "data": {
      "text/plain": [
       "Decimal('11')"
      ]
     },
     "execution_count": 13,
     "metadata": {},
     "output_type": "execute_result"
    }
   ],
   "source": [
    "from decimal import Decimal\n",
    "\n",
    "a = ['5', '6']\n",
    "# import Decimal: from decimal import Decimal\n",
    "b=sum(Decimal(i) for i in a)\n",
    "b"
   ]
  },
  {
   "cell_type": "code",
   "execution_count": 48,
   "metadata": {
    "scrolled": false
   },
   "outputs": [
    {
     "name": "stdout",
     "output_type": "stream",
     "text": [
      "0\n"
     ]
    }
   ],
   "source": [
    "data=[[1, 2], [2, 3], [3, 4]]\n",
    "\n",
    "n= 5\n",
    "count=0\n",
    "\n",
    "\n",
    "for i in range(len(data)):\n",
    "   \n",
    "    is_between=min(data[i])<= n <= max(data[i])\n",
    "  \n",
    "    if is_between == True:\n",
    "        count= count+ 1\n",
    "print(count)   "
   ]
  },
  {
   "cell_type": "markdown",
   "metadata": {},
   "source": [
    "TypeError: 'builtin_function_or_method' object is not subscriptable\n",
    "\n",
    "if we you type brackets instead of parenthesis by mistake. or you can do like below"
   ]
  },
  {
   "cell_type": "code",
   "execution_count": null,
   "metadata": {},
   "outputs": [],
   "source": [
    "count=0\n",
    "for event in events:\n",
    "    if event[0]<=wedding and event[1]>=wedding:\n",
    "        count=count+1\n",
    "print(count)        \n",
    "        "
   ]
  },
  {
   "cell_type": "code",
   "execution_count": 17,
   "metadata": {},
   "outputs": [
    {
     "name": "stdout",
     "output_type": "stream",
     "text": [
      "1 2 3 4 \n",
      "5 6 \n",
      "7 8 9 \n"
     ]
    }
   ],
   "source": [
    "a = [[1, 2, 3, 4], [5, 6], [7, 8, 9]]\n",
    "for row in a:\n",
    "    for elem in row:\n",
    "        print(elem, end=' ')\n",
    "    print()"
   ]
  },
  {
   "cell_type": "markdown",
   "metadata": {},
   "source": [
    "Naturally, to output a single line you can use method join():\n",
    "\n",
    "for row in a:\n",
    "    print(' '.join([str(elem) for elem in row]))"
   ]
  },
  {
   "cell_type": "markdown",
   "metadata": {},
   "source": [
    "You will be given two positive integers m and n. You have to make a list of lists (which can be visualised as a matrix) of size m*n, that is m sublists (rows), with each sublist having n integers (columns).\n",
    "\n",
    " \n",
    "\n",
    "The matrix should be such that it should have 1 on the border and 0 everywhere else. Check the coding quiz question below for more details."
   ]
  },
  {
   "cell_type": "code",
   "execution_count": 63,
   "metadata": {},
   "outputs": [
    {
     "name": "stdout",
     "output_type": "stream",
     "text": [
      "[1, 1, 1, 1, 1]\n",
      "[1, 0, 0, 0, 1]\n",
      "[1, 0, 0, 0, 1]\n",
      "[1, 1, 1, 1, 1]\n"
     ]
    }
   ],
   "source": [
    "m=4\n",
    "n=5\n",
    "final= [0]*n\n",
    "final=[list(final) for i in range(m)]\n",
    "for i in range(m):\n",
    "    for j in range(n):\n",
    "        if i==0 or j==0 or i== m-1 or j==n-1:\n",
    "            final[i][j]=1\n",
    "            \n",
    "for i in final:\n",
    "    print(i)"
   ]
  },
  {
   "cell_type": "code",
   "execution_count": 60,
   "metadata": {},
   "outputs": [
    {
     "name": "stdout",
     "output_type": "stream",
     "text": [
      "[1, 0, 0]\n",
      "[0, 0, 0]\n",
      "[0, 0, 0]\n"
     ]
    }
   ],
   "source": [
    "original_list=[0, 0, 0]\n",
    "copy1=original_list #shallow copy\n",
    "copy2=list(original_list) #deep copy\n",
    "copy3=list.copy(original_list)#deep copy\n",
    "original_list[0] = 1\n",
    "print(copy1)\n",
    "print(copy2)\n",
    "print(copy3)"
   ]
  },
  {
   "cell_type": "code",
   "execution_count": 64,
   "metadata": {},
   "outputs": [
    {
     "name": "stdout",
     "output_type": "stream",
     "text": [
      "possible\n"
     ]
    }
   ],
   "source": [
    "sides= [5,4,2,1,4,5]\n",
    "tower=[]\n",
    "\n",
    "while sides:\n",
    "    \n",
    "    if sides[0]>=sides[-1]:\n",
    "       \n",
    "        tower.append(sides.pop(0))\n",
    "    else:\n",
    "         tower.append(sides.pop())\n",
    "          \n",
    "            \n",
    "for i in range(len(tower)-1):\n",
    "    \n",
    "    if tower[i]<tower[i+1]:\n",
    "        print('impossible')\n",
    "        break\n",
    "else:\n",
    "    print('possible')"
   ]
  },
  {
   "cell_type": "code",
   "execution_count": 65,
   "metadata": {},
   "outputs": [
    {
     "name": "stdout",
     "output_type": "stream",
     "text": [
      "1 \n",
      "1 1 \n",
      "1 2 1 \n",
      "1 3 3 1 \n",
      "1 4 6 4 1 \n"
     ]
    }
   ],
   "source": [
    "# Pascal function  \n",
    "def printPascal(n):  \n",
    "  \n",
    "    for line in range(1, n + 1):  \n",
    "        C = 1; # used to represent C(line, i)  \n",
    "        for i in range(1, line + 1):  \n",
    "              \n",
    "            # The first value in a  \n",
    "            # line is always 1  \n",
    "            print(C, end = \" \");  \n",
    "            C = int(C * (line - i) / i);  \n",
    "        print(\"\");  \n",
    "  \n",
    "# Driver code  \n",
    "n = 5;  \n",
    "printPascal(n); \n",
    "  "
   ]
  },
  {
   "cell_type": "code",
   "execution_count": 66,
   "metadata": {},
   "outputs": [
    {
     "name": "stdout",
     "output_type": "stream",
     "text": [
      "     1\n",
      "    1 1\n",
      "   1 2 1\n",
      "  1 3 3 1\n",
      " 1 4 6 4 1\n"
     ]
    }
   ],
   "source": [
    "n = 5\n",
    "  \n",
    "# iterarte upto n \n",
    "for i in range(n): \n",
    "    # adjust space \n",
    "    print(' '*(n-i), end='') \n",
    "  \n",
    "    # compute power of 11 \n",
    "    print(' '.join(map(str, str(11**i)))) "
   ]
  },
  {
   "cell_type": "code",
   "execution_count": 69,
   "metadata": {},
   "outputs": [
    {
     "name": "stdout",
     "output_type": "stream",
     "text": [
      "Enter line number:5\n",
      "[1, 4, 6, 4, 1]\n"
     ]
    }
   ],
   "source": [
    " \n",
    "n=int(input(\"Enter line number:\"))  \n",
    "    \n",
    "def pascal(n):\n",
    "    if n == 1:\n",
    "        return [1]\n",
    "    else:\n",
    "        line = [1]\n",
    "        previous_line = pascal(n-1)\n",
    "        for i in range(len(previous_line)-1):\n",
    "            line.append(previous_line[i] + previous_line[i+1])\n",
    "        line += [1]\n",
    "    return line\n",
    " \n",
    "#j=int(input(\"Enter line number:\"))\n",
    "print(pascal(n))                                                             "
   ]
  },
  {
   "cell_type": "code",
   "execution_count": 71,
   "metadata": {},
   "outputs": [
    {
     "name": "stdout",
     "output_type": "stream",
     "text": [
      "6\n",
      "[1, 5, 10, 10, 5, 1]\n"
     ]
    }
   ],
   "source": [
    "n=int(input())\n",
    "\n",
    "# we will make a list with n lists in it\n",
    "# each nth list will have n numbers\n",
    "#we put all 1 in all sub lists\n",
    "#suppose n = 4\n",
    "Pascals=[[1 for i in range(j)] for j in range(1, n+1)]\n",
    "#Pascals = [[1], [1, 1], [1, 1, 1], [1, 1, 1, 1], [1, 1, 1, 1, 1], [1, 1, 1, 1, 1, 1]]\n",
    "#we dont need to change first two sublists\n",
    "for i in range(2, n):\n",
    "    for j in range(1,i):\n",
    "        Pascals[i][j]=Pascals[i-1][j-1]+Pascals[i-1][j]\n",
    "        #we add from previous sublist as shown in the link\n",
    "\n",
    "print(Pascals[-1]) #print last element of the list\n"
   ]
  },
  {
   "cell_type": "code",
   "execution_count": 3,
   "metadata": {},
   "outputs": [
    {
     "name": "stdout",
     "output_type": "stream",
     "text": [
      "[1, 2, 3, 4, 5]\n",
      "[6, 7, 8, 9]\n"
     ]
    }
   ],
   "source": [
    "#def chunker(seq, size):\n",
    "    #return (seq[pos:pos + size] for pos in range(0, len(seq), size))\n",
    "#(in python 2 use xrange() instead of range() to avoid allocating a list)\n",
    "\n",
    "\n",
    "\n",
    "lst=[1,2,3,4,5,6,7,8,9]\n",
    "n=5\n",
    "lst=[lst[i:i + n] for i in range(0, len(lst), n)]\n",
    "for i in range(len(l2)):\n",
    "    print(lst[i])\n"
   ]
  },
  {
   "cell_type": "code",
   "execution_count": 15,
   "metadata": {},
   "outputs": [
    {
     "name": "stdout",
     "output_type": "stream",
     "text": [
      "('A', 'B', 'C')\n",
      "('D', 'E', 'F')\n",
      "('G', 'x', 'x')\n"
     ]
    }
   ],
   "source": [
    "from itertools import zip_longest\n",
    "\n",
    "def grouper(iterable, n, fillvalue=None):\n",
    "    args = [iter(iterable)] * n\n",
    "    return zip_longest(*args, fillvalue=fillvalue)\n",
    "#Example\n",
    "#In pseudocode to keep the example terse.\n",
    "\n",
    "x1 = grouper('ABCDEFG', 3, 'x') #--> 'ABC' 'DEF' 'Gxx'\n",
    "for i in x1:\n",
    "    print(str(i))"
   ]
  },
  {
   "cell_type": "code",
   "execution_count": 18,
   "metadata": {},
   "outputs": [
    {
     "name": "stdout",
     "output_type": "stream",
     "text": [
      "name -> John\n",
      "name -> Jane\n",
      "last_name -> Doe\n",
      "last_name -> Doe\n",
      "job -> Python Consultant\n",
      "job -> Community Manager\n",
      "\n",
      "name -> John\n",
      "last_name -> Doe\n",
      "job -> Python Consultant\n"
     ]
    }
   ],
   "source": [
    "dict_one = {'name': 'John', 'last_name': 'Doe', 'job': 'Python Consultant'}\n",
    "dict_two = {'name': 'Jane', 'last_name': 'Doe', 'job': 'Community Manager'}\n",
    "for (k1, v1), (k2, v2) in zip(dict_one.items(), dict_two.items()):\n",
    "    print(k1, '->', v1)\n",
    "    print(k2, '->', v2)\n",
    "print()\n"
   ]
  },
  {
   "cell_type": "code",
   "execution_count": 12,
   "metadata": {},
   "outputs": [
    {
     "ename": "TypeError",
     "evalue": "'set' object is not callable",
     "output_type": "error",
     "traceback": [
      "\u001b[0;31m---------------------------------------------------------------------------\u001b[0m",
      "\u001b[0;31mTypeError\u001b[0m                                 Traceback (most recent call last)",
      "\u001b[0;32m<ipython-input-12-7f81b53cdb73>\u001b[0m in \u001b[0;36m<module>\u001b[0;34m\u001b[0m\n\u001b[1;32m      3\u001b[0m \u001b[0mlist1\u001b[0m\u001b[0;34m=\u001b[0m\u001b[0mset\u001b[0m\u001b[0;34m(\u001b[0m\u001b[0mlist1\u001b[0m\u001b[0;34m)\u001b[0m\u001b[0;34m\u001b[0m\u001b[0;34m\u001b[0m\u001b[0m\n\u001b[1;32m      4\u001b[0m \u001b[0;34m\u001b[0m\u001b[0m\n\u001b[0;32m----> 5\u001b[0;31m \u001b[0mlist1\u001b[0m\u001b[0;34m=\u001b[0m\u001b[0mlist\u001b[0m\u001b[0;34m(\u001b[0m\u001b[0mlist1\u001b[0m\u001b[0;34m)\u001b[0m\u001b[0;34m\u001b[0m\u001b[0;34m\u001b[0m\u001b[0m\n\u001b[0m\u001b[1;32m      6\u001b[0m \u001b[0mlist1\u001b[0m\u001b[0;34m\u001b[0m\u001b[0;34m\u001b[0m\u001b[0m\n\u001b[1;32m      7\u001b[0m \u001b[0mlist1\u001b[0m\u001b[0;34m.\u001b[0m\u001b[0msort\u001b[0m\u001b[0;34m(\u001b[0m\u001b[0;34m)\u001b[0m\u001b[0;34m\u001b[0m\u001b[0;34m\u001b[0m\u001b[0m\n",
      "\u001b[0;31mTypeError\u001b[0m: 'set' object is not callable"
     ]
    }
   ],
   "source": [
    "#list1=[3, 1, 4, 4, 5, 5, 5, 0, 2, 2]\n",
    "list1=[7, 2, 0, 9, -1, 8]\n",
    "list1=set(list1)\n",
    "\n",
    "list1=list(list1)\n",
    "list1\n",
    "list1.sort()\n",
    "if  (min(list1) != max(list1)): \n",
    "     print(list1[-2])\n",
    "else:\n",
    "    print(\"not present\")\n",
    "    \n",
    "list1    \n"
   ]
  },
  {
   "cell_type": "code",
   "execution_count": 13,
   "metadata": {},
   "outputs": [
    {
     "ename": "TypeError",
     "evalue": "'set' object is not callable",
     "output_type": "error",
     "traceback": [
      "\u001b[0;31m---------------------------------------------------------------------------\u001b[0m",
      "\u001b[0;31mTypeError\u001b[0m                                 Traceback (most recent call last)",
      "\u001b[0;32m<ipython-input-13-7d0d2047c492>\u001b[0m in \u001b[0;36m<module>\u001b[0;34m\u001b[0m\n\u001b[1;32m      2\u001b[0m \u001b[0mn\u001b[0m\u001b[0;34m=\u001b[0m\u001b[0;36m7\u001b[0m\u001b[0;34m\u001b[0m\u001b[0;34m\u001b[0m\u001b[0m\n\u001b[1;32m      3\u001b[0m \u001b[0mfinal\u001b[0m\u001b[0;34m=\u001b[0m \u001b[0;34m[\u001b[0m\u001b[0;36m0\u001b[0m\u001b[0;34m]\u001b[0m\u001b[0;34m*\u001b[0m\u001b[0;36m7\u001b[0m\u001b[0;34m\u001b[0m\u001b[0;34m\u001b[0m\u001b[0m\n\u001b[0;32m----> 4\u001b[0;31m \u001b[0mfinal\u001b[0m\u001b[0;34m=\u001b[0m\u001b[0;34m[\u001b[0m\u001b[0mlist\u001b[0m\u001b[0;34m(\u001b[0m\u001b[0mfinal\u001b[0m\u001b[0;34m)\u001b[0m \u001b[0;32mfor\u001b[0m \u001b[0mi\u001b[0m \u001b[0;32min\u001b[0m \u001b[0mrange\u001b[0m\u001b[0;34m(\u001b[0m\u001b[0mm\u001b[0m\u001b[0;34m)\u001b[0m\u001b[0;34m]\u001b[0m\u001b[0;34m\u001b[0m\u001b[0;34m\u001b[0m\u001b[0m\n\u001b[0m\u001b[1;32m      5\u001b[0m \u001b[0mfinal\u001b[0m\u001b[0;34m\u001b[0m\u001b[0;34m\u001b[0m\u001b[0m\n",
      "\u001b[0;32m<ipython-input-13-7d0d2047c492>\u001b[0m in \u001b[0;36m<listcomp>\u001b[0;34m(.0)\u001b[0m\n\u001b[1;32m      2\u001b[0m \u001b[0mn\u001b[0m\u001b[0;34m=\u001b[0m\u001b[0;36m7\u001b[0m\u001b[0;34m\u001b[0m\u001b[0;34m\u001b[0m\u001b[0m\n\u001b[1;32m      3\u001b[0m \u001b[0mfinal\u001b[0m\u001b[0;34m=\u001b[0m \u001b[0;34m[\u001b[0m\u001b[0;36m0\u001b[0m\u001b[0;34m]\u001b[0m\u001b[0;34m*\u001b[0m\u001b[0;36m7\u001b[0m\u001b[0;34m\u001b[0m\u001b[0;34m\u001b[0m\u001b[0m\n\u001b[0;32m----> 4\u001b[0;31m \u001b[0mfinal\u001b[0m\u001b[0;34m=\u001b[0m\u001b[0;34m[\u001b[0m\u001b[0mlist\u001b[0m\u001b[0;34m(\u001b[0m\u001b[0mfinal\u001b[0m\u001b[0;34m)\u001b[0m \u001b[0;32mfor\u001b[0m \u001b[0mi\u001b[0m \u001b[0;32min\u001b[0m \u001b[0mrange\u001b[0m\u001b[0;34m(\u001b[0m\u001b[0mm\u001b[0m\u001b[0;34m)\u001b[0m\u001b[0;34m]\u001b[0m\u001b[0;34m\u001b[0m\u001b[0;34m\u001b[0m\u001b[0m\n\u001b[0m\u001b[1;32m      5\u001b[0m \u001b[0mfinal\u001b[0m\u001b[0;34m\u001b[0m\u001b[0;34m\u001b[0m\u001b[0m\n",
      "\u001b[0;31mTypeError\u001b[0m: 'set' object is not callable"
     ]
    }
   ],
   "source": [
    "m=7\n",
    "n=7\n",
    "final= [0]*7\n",
    "final=[list(final) for i in range(m)]\n",
    "for i in range(m):\n",
    "    for j in range(n):\n",
    "        if i==0 or j==0 or i== m-1 or j==n-1:\n",
    "            final[i][j]=1\n",
    "            \n",
    "for i in final:\n",
    "    print(i)"
   ]
  },
  {
   "cell_type": "code",
   "execution_count": 9,
   "metadata": {
    "scrolled": true
   },
   "outputs": [
    {
     "name": "stdout",
     "output_type": "stream",
     "text": [
      "5\n",
      "61725\n"
     ]
    }
   ],
   "source": [
    "n=int(input())\n",
    "total = 0\n",
    "num = ''\n",
    "for i in range(0, n):\n",
    "    num = ''\n",
    "    for j in range(0,i+1):\n",
    "        num+=str(n)\n",
    "    #print(num)\n",
    "    total += int(num)\n",
    "print(total)"
   ]
  },
  {
   "cell_type": "code",
   "execution_count": 1,
   "metadata": {},
   "outputs": [
    {
     "name": "stdout",
     "output_type": "stream",
     "text": [
      "8\n"
     ]
    }
   ],
   "source": [
    "inputlist = [1, 2, 3, 2, 5, 1, 2, 4, 6, 2, 7, 8, 6]\n",
    "maxIndex = 0\n",
    "dict = {}\n",
    "for index in range(0, len(inputlist)):\n",
    "    cKey = inputlist[index]\n",
    "    #if(dict.get(cKey)):\n",
    "    if(cKey in dict):\n",
    "        fistKeyIndex= dict[cKey]\n",
    "        if((index - fistKeyIndex) > maxIndex):\n",
    "            maxIndex = index - fistKeyIndex\n",
    "    else:\n",
    "        dict[cKey] = index\n",
    "\n",
    "print(maxIndex)"
   ]
  },
  {
   "cell_type": "code",
   "execution_count": 5,
   "metadata": {},
   "outputs": [
    {
     "name": "stdout",
     "output_type": "stream",
     "text": [
      "{1: [0], 2: [1], 3: [2]}\n",
      "{1: [0], 2: [1, 3], 3: [2]}\n",
      "{1: [0], 2: [1, 3], 3: [2], 5: [4]}\n",
      "{1: [0, 5], 2: [1, 3], 3: [2], 5: [4]}\n",
      "{1: [0, 5], 2: [1, 3], 3: [2], 5: [4]}\n",
      "{1: [0, 5], 2: [1, 3, 6], 3: [2], 5: [4]}\n",
      "{1: [0, 5], 2: [1, 3, 6], 3: [2], 5: [4], 4: [7], 6: [8]}\n",
      "{1: [0, 5], 2: [1, 3, 6, 9], 3: [2], 5: [4], 4: [7], 6: [8]}\n",
      "{1: [0, 5], 2: [1, 3, 6, 9], 3: [2], 5: [4], 4: [7], 6: [8], 7: [10], 8: [11]}\n",
      "{1: [0, 5], 2: [1, 3, 6, 9], 3: [2], 5: [4], 4: [7], 6: [8, 12], 7: [10], 8: [11]}\n",
      "8\n"
     ]
    }
   ],
   "source": [
    "#input has been taken for you\n",
    "input_list= [1, 2, 3, 2, 5, 1, 2, 4, 6, 2, 7, 8, 6]\n",
    "\n",
    "#start writing your code from here\n",
    "#we will make a dictionary with keys as the elements of the list\n",
    "#and values as a list of the indices of occurances of the the elements\n",
    "\n",
    "d={}\n",
    "for i in range(len(input_list)):\n",
    "    if input_list[i] in d:\n",
    "        print(d)\n",
    "        d[input_list[i]].append(i)\n",
    "        print(d)\n",
    "    else:\n",
    "        d[input_list[i]]=[i]\n",
    "\n",
    "#now we just find the difference of first and last element of all the lists in d.values()\n",
    "#the maximum difference will be out answer\n",
    "answer=0\n",
    "\n",
    "for v in d.values():\n",
    "    difference=v[-1] - v[0]\n",
    "    if difference > answer:\n",
    "        answer=difference\n",
    "\n",
    "print(answer)\n"
   ]
  }
 ],
 "metadata": {
  "kernelspec": {
   "display_name": "Python 3",
   "language": "python",
   "name": "python3"
  },
  "language_info": {
   "codemirror_mode": {
    "name": "ipython",
    "version": 3
   },
   "file_extension": ".py",
   "mimetype": "text/x-python",
   "name": "python",
   "nbconvert_exporter": "python",
   "pygments_lexer": "ipython3",
   "version": "3.8.5"
  }
 },
 "nbformat": 4,
 "nbformat_minor": 4
}
