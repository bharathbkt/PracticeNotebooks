{
 "cells": [
  {
   "cell_type": "code",
   "execution_count": 1,
   "metadata": {},
   "outputs": [
    {
     "ename": "TypeError",
     "evalue": "'str' object does not support item assignment",
     "output_type": "error",
     "traceback": [
      "\u001b[0;31m---------------------------------------------------------------------------\u001b[0m",
      "\u001b[0;31mTypeError\u001b[0m                                 Traceback (most recent call last)",
      "\u001b[0;32m<ipython-input-1-3f8b3fab2cd4>\u001b[0m in \u001b[0;36m<module>\u001b[0;34m\u001b[0m\n\u001b[1;32m      3\u001b[0m \u001b[0;32mfor\u001b[0m \u001b[0mi\u001b[0m \u001b[0;32min\u001b[0m \u001b[0mrange\u001b[0m\u001b[0;34m(\u001b[0m\u001b[0mlen\u001b[0m\u001b[0;34m(\u001b[0m\u001b[0ms\u001b[0m\u001b[0;34m)\u001b[0m\u001b[0;34m)\u001b[0m\u001b[0;34m:\u001b[0m\u001b[0;34m\u001b[0m\u001b[0;34m\u001b[0m\u001b[0m\n\u001b[1;32m      4\u001b[0m     \u001b[0;32mif\u001b[0m \u001b[0ms\u001b[0m\u001b[0;34m[\u001b[0m\u001b[0mi\u001b[0m\u001b[0;34m]\u001b[0m \u001b[0;32min\u001b[0m \u001b[0;34m'a'\u001b[0m\u001b[0;34m:\u001b[0m\u001b[0;34m\u001b[0m\u001b[0;34m\u001b[0m\u001b[0m\n\u001b[0;32m----> 5\u001b[0;31m         \u001b[0ms\u001b[0m\u001b[0;34m[\u001b[0m\u001b[0mi\u001b[0m\u001b[0;34m]\u001b[0m\u001b[0;34m=\u001b[0m\u001b[0;34m'*'\u001b[0m\u001b[0;34m\u001b[0m\u001b[0;34m\u001b[0m\u001b[0m\n\u001b[0m\u001b[1;32m      6\u001b[0m \u001b[0;34m\u001b[0m\u001b[0m\n\u001b[1;32m      7\u001b[0m \u001b[0mprint\u001b[0m\u001b[0;34m(\u001b[0m\u001b[0ms\u001b[0m\u001b[0;34m)\u001b[0m\u001b[0;34m\u001b[0m\u001b[0;34m\u001b[0m\u001b[0m\n",
      "\u001b[0;31mTypeError\u001b[0m: 'str' object does not support item assignment"
     ]
    }
   ],
   "source": [
    "s=\"Upgrad\"\n",
    "\n",
    "for i in range(len(s)):\n",
    "    if s[i] in 'a':\n",
    "        s[i]='*'\n",
    "\n",
    "print(s)"
   ]
  },
  {
   "cell_type": "code",
   "execution_count": 15,
   "metadata": {},
   "outputs": [
    {
     "name": "stdout",
     "output_type": "stream",
     "text": [
      "2\n",
      "<class 'str'>\n"
     ]
    },
    {
     "data": {
      "text/plain": [
       "int"
      ]
     },
     "execution_count": 15,
     "metadata": {},
     "output_type": "execute_result"
    }
   ],
   "source": [
    "inp=(input()\n",
    "inp\n",
    "print(type(inp))\n",
    "a = 2\n",
    "type(a)\n"
   ]
  },
  {
   "cell_type": "code",
   "execution_count": null,
   "metadata": {},
   "outputs": [],
   "source": [
    "# Write a program to display whether the input is a digit or a letter of the alphabet."
   ]
  },
  {
   "cell_type": "code",
   "execution_count": 14,
   "metadata": {},
   "outputs": [
    {
     "name": "stdout",
     "output_type": "stream",
     "text": [
      "Please Enter Your Own Character : 97\n",
      "The Given Character  97 is a Digit\n"
     ]
    }
   ],
   "source": [
    "# first method\n",
    "\n",
    "ch = input(\"Please Enter Your Own Character : \")\n",
    "\n",
    "if((ch >= 'a' and ch <= 'z') or (ch >= 'A' and ch <= 'Z')): \n",
    "    print(\"The Given Character \", ch, \"is an Alphabet\") \n",
    "elif(ch >= '0'):\n",
    "    print(\"The Given Character \", ch, \"is a Digit\")\n",
    "else:\n",
    "    print(\"The Given Character \", ch, \"is a Special Character\")\n"
   ]
  },
  {
   "cell_type": "code",
   "execution_count": 20,
   "metadata": {},
   "outputs": [
    {
     "name": "stdout",
     "output_type": "stream",
     "text": [
      "1\n",
      "integer\n"
     ]
    }
   ],
   "source": [
    "# second method by using  isdigit and isalpha\n",
    "\n",
    "inp=input() \n",
    "\n",
    "if(inp.isdigit()):\n",
    "    print(\"integer\")\n",
    "elif(inp.isalpha()):\n",
    "    print(\"Alphabet\")\n",
    "#else:\n",
    "    #print(\"The Given Character \", ch, \"is a Special Character\")"
   ]
  },
  {
   "cell_type": "markdown",
   "metadata": {},
   "source": [
    "**isdigit()**:  Python isdigit is one of the Python String Method used to check whether the character is a digit or not.\n",
    "If the String_Value is a valid digit, it returns TRUE\n",
    "If the String_Value is not a valid digit, then the isdigit function returns FALSE\n",
    "\n",
    "The syntax of is digit in Python function is: **String_Value.isdigit()**\n",
    "\n",
    "**isalpha()**: Python isalpha is one of the Python String Methods used to check whether the given string has at least one character, and the character is either an alphabet or not.\n",
    "String_Value: Please select a valid String literal.\n",
    "**syntax**:String_Value.isalpha()"
   ]
  },
  {
   "cell_type": "code",
   "execution_count": 8,
   "metadata": {},
   "outputs": [
    {
     "name": "stdout",
     "output_type": "stream",
     "text": [
      "$\n",
      "#\n",
      "%\n"
     ]
    }
   ],
   "source": [
    "##Write a program to accept a character and display its next and previous character. .\n",
    "#Sample input: D   Sample output:CE\n",
    "\n",
    "\n",
    "inp= input()\n",
    "\n",
    "if((inp>='a' and inp<='z') or(inp>='A' and inp<='Z')):\n",
    "    x=ord(inp)\n",
    "    y=x+1\n",
    "    z=x-1\n",
    "    a= chr(y)\n",
    "    b= chr(z)\n",
    "    print(b)\n",
    "    print(a)\n",
    "elif(ord(inp)>=48 and ord(inp)<=57): \n",
    "    x=ord(inp)\n",
    "    y=x+1\n",
    "    z=x-1\n",
    "    a= chr(y)\n",
    "    b= chr(z)\n",
    "    print(b)\n",
    "    print(a)\n",
    "    \n",
    "elif(ord(inp)>=32 and ord(inp)<=47)or (ord(inp)>=58 and ord(inp)<=64):\n",
    "    x=ord(inp)\n",
    "    y=x+1\n",
    "    z=x-1\n",
    "    a= chr(y)\n",
    "    b= chr(z)\n",
    "    \n",
    "    print(b)\n",
    "    print(a)\n",
    "\n",
    "else:\n",
    "    print (\"undefined\")\n",
    "    \n",
    "    \n",
    "\n",
    "\n",
    "\n",
    "                                "
   ]
  },
  {
   "cell_type": "code",
   "execution_count": 17,
   "metadata": {},
   "outputs": [
    {
     "ename": "ValueError",
     "evalue": "the first two maketrans arguments must have equal length",
     "output_type": "error",
     "traceback": [
      "\u001b[0;31m---------------------------------------------------------------------------\u001b[0m",
      "\u001b[0;31mValueError\u001b[0m                                Traceback (most recent call last)",
      "\u001b[0;32m<ipython-input-17-6b146cd449c8>\u001b[0m in \u001b[0;36m<module>\u001b[0;34m\u001b[0m\n\u001b[1;32m      5\u001b[0m \u001b[0my\u001b[0m \u001b[0;34m=\u001b[0m \u001b[0;34m\"\"\u001b[0m\u001b[0;34m;\u001b[0m\u001b[0;34m\u001b[0m\u001b[0;34m\u001b[0m\u001b[0m\n\u001b[1;32m      6\u001b[0m \u001b[0;31m#z = \"odnght\";\u001b[0m\u001b[0;34m\u001b[0m\u001b[0;34m\u001b[0m\u001b[0;34m\u001b[0m\u001b[0m\n\u001b[0;32m----> 7\u001b[0;31m \u001b[0mmytable\u001b[0m \u001b[0;34m=\u001b[0m \u001b[0mtxt\u001b[0m\u001b[0;34m.\u001b[0m\u001b[0mmaketrans\u001b[0m\u001b[0;34m(\u001b[0m\u001b[0mx\u001b[0m\u001b[0;34m,\u001b[0m \u001b[0my\u001b[0m\u001b[0;34m)\u001b[0m\u001b[0;34m\u001b[0m\u001b[0;34m\u001b[0m\u001b[0m\n\u001b[0m\u001b[1;32m      8\u001b[0m \u001b[0mprint\u001b[0m\u001b[0;34m(\u001b[0m\u001b[0mtxt\u001b[0m\u001b[0;34m.\u001b[0m\u001b[0mtranslate\u001b[0m\u001b[0;34m(\u001b[0m\u001b[0mmytable\u001b[0m\u001b[0;34m)\u001b[0m\u001b[0;34m)\u001b[0m\u001b[0;34m\u001b[0m\u001b[0;34m\u001b[0m\u001b[0m\n",
      "\u001b[0;31mValueError\u001b[0m: the first two maketrans arguments must have equal length"
     ]
    }
   ],
   "source": [
    "#Write a program to accept a string from the user, delete all vowels from the string and display the result. \n",
    "\n",
    "\n",
    "x = \"mSa\";\n",
    "y = \"\";\n",
    "#z = \"odnght\";\n",
    "mytable = txt.maketrans(x, y)\n",
    "print(txt.translate(mytable))\n"
   ]
  },
  {
   "cell_type": "code",
   "execution_count": 19,
   "metadata": {},
   "outputs": [
    {
     "name": "stdout",
     "output_type": "stream",
     "text": [
      "pgrd\n"
     ]
    }
   ],
   "source": [
    "S = \"upgrad\"\n",
    "print(S.translate({ord(i): None for i in 'aeiouAEIOU'}))\n"
   ]
  },
  {
   "cell_type": "code",
   "execution_count": 3,
   "metadata": {
    "scrolled": true
   },
   "outputs": [
    {
     "name": "stdout",
     "output_type": "stream",
     "text": [
      "3 4 5\n",
      "valid\n"
     ]
    }
   ],
   "source": [
    "\n",
    "a,b,c= input().split(' ')\n",
    "a=int(a)\n",
    "b=int(b)\n",
    "c=int(c)\n",
    "\n",
    "if (a + b <= c) or (a + c <= b) or (b + c <= a) :\n",
    "    print(\"invalid\")\n",
    "else:\n",
    "    print(\"valid\")\n",
    "    \n",
    "  "
   ]
  },
  {
   "cell_type": "markdown",
   "metadata": {},
   "source": [
    "\n",
    "\n"
   ]
  },
  {
   "cell_type": "code",
   "execution_count": 30,
   "metadata": {},
   "outputs": [
    {
     "name": "stdout",
     "output_type": "stream",
     "text": [
      "2 3 4\n"
     ]
    }
   ],
   "source": [
    "a,b,c= [int(x) for x in input().split()]"
   ]
  },
  {
   "cell_type": "code",
   "execution_count": 2,
   "metadata": {},
   "outputs": [
    {
     "ename": "AttributeError",
     "evalue": "'function' object has no attribute 'split'",
     "output_type": "error",
     "traceback": [
      "\u001b[0;31m---------------------------------------------------------------------------\u001b[0m",
      "\u001b[0;31mAttributeError\u001b[0m                            Traceback (most recent call last)",
      "\u001b[0;32m<ipython-input-2-920ae91e5d81>\u001b[0m in \u001b[0;36m<module>\u001b[0;34m\u001b[0m\n\u001b[1;32m      2\u001b[0m \u001b[0mb\u001b[0m\u001b[0;34m=\u001b[0m\u001b[0;36m2\u001b[0m\u001b[0;34m\u001b[0m\u001b[0;34m\u001b[0m\u001b[0m\n\u001b[1;32m      3\u001b[0m \u001b[0mc\u001b[0m\u001b[0;34m=\u001b[0m\u001b[0;36m3\u001b[0m\u001b[0;34m\u001b[0m\u001b[0;34m\u001b[0m\u001b[0m\n\u001b[0;32m----> 4\u001b[0;31m \u001b[0ma\u001b[0m\u001b[0;34m,\u001b[0m\u001b[0mb\u001b[0m\u001b[0;34m,\u001b[0m\u001b[0mc\u001b[0m\u001b[0;34m=\u001b[0m \u001b[0mstr\u001b[0m\u001b[0;34m(\u001b[0m\u001b[0minput\u001b[0m\u001b[0;34m.\u001b[0m\u001b[0msplit\u001b[0m\u001b[0;34m(\u001b[0m\u001b[0;34m)\u001b[0m\u001b[0;34m)\u001b[0m\u001b[0;34m\u001b[0m\u001b[0;34m\u001b[0m\u001b[0m\n\u001b[0m",
      "\u001b[0;31mAttributeError\u001b[0m: 'function' object has no attribute 'split'"
     ]
    }
   ],
   "source": [
    "a=1\n",
    "b=2\n",
    "c=3\n",
    "a,b,c= str(input().split())"
   ]
  },
  {
   "cell_type": "code",
   "execution_count": 12,
   "metadata": {},
   "outputs": [
    {
     "name": "stdout",
     "output_type": "stream",
     "text": [
      "5\n",
      "5 * 1 = 5\n",
      "5 * 2 = 10\n",
      "5 * 3 = 15\n",
      "5 * 4 = 20\n",
      "5 * 5 = 25\n",
      "5 * 6 = 30\n",
      "5 * 7 = 35\n",
      "5 * 8 = 40\n",
      "5 * 9 = 45\n",
      "5 * 10 = 50\n"
     ]
    }
   ],
   "source": [
    "n=int(input())\n",
    "\n",
    "for i in range(1,11):\n",
    "    print(n,'*',i,'=',(n*i))"
   ]
  },
  {
   "cell_type": "code",
   "execution_count": 19,
   "metadata": {},
   "outputs": [
    {
     "name": "stdout",
     "output_type": "stream",
     "text": [
      "Python\n",
      "p\n"
     ]
    },
    {
     "data": {
      "text/plain": [
       "1"
      ]
     },
     "execution_count": 19,
     "metadata": {},
     "output_type": "execute_result"
    }
   ],
   "source": [
    "input_string=input()\n",
    "input_char= input()\n",
    "input_char=input_char.upper()\n",
    "\n",
    "\n",
    "input_string.count(input_char)"
   ]
  },
  {
   "cell_type": "code",
   "execution_count": 29,
   "metadata": {},
   "outputs": [
    {
     "name": "stdout",
     "output_type": "stream",
     "text": [
      "123\n",
      "6\n"
     ]
    }
   ],
   "source": [
    "n=int(input())\n",
    "\n",
    "def getsum(n):\n",
    "    \n",
    "    n_str = str(n)\n",
    "    list1=sum(list(map(int, n_str.strip())))\n",
    "    return list1\n",
    "\n",
    "\n",
    "print(getsum(n))\n"
   ]
  },
  {
   "cell_type": "markdown",
   "metadata": {},
   "source": [
    "#Write a program to accept a number from the user and count the zeros and odd and non-zero even digits from the entered number.\n",
    "\n",
    "Sample input:\n",
    "\n",
    "1030\n",
    "\n",
    "Sample output:\n",
    "\n",
    "Number of odd digits: 2\n",
    "\n",
    "Number of non-zero even digits: 0\n",
    "\n",
    "Number of zeros: 2\n",
    "\n",
    "\n"
   ]
  },
  {
   "cell_type": "code",
   "execution_count": 36,
   "metadata": {
    "scrolled": true
   },
   "outputs": [
    {
     "name": "stdout",
     "output_type": "stream",
     "text": [
      "3080\n",
      "Number of odd digits: 1\n",
      "Number of non-zero even digits: 1\n",
      "Number of zeros: 2\n"
     ]
    }
   ],
   "source": [
    "n=int(input())\n",
    "\n",
    "n_str=str(n)\n",
    "count_odd=0\n",
    "count_eve=0\n",
    "count_zero=0\n",
    "\n",
    "for inp_num in n_str:\n",
    "    if int(inp_num)== 0:\n",
    "        count_zero += 1\n",
    "        \n",
    "    elif int(inp_num)%2 == 0:\n",
    "        count_eve += 1\n",
    "        \n",
    "    elif int(inp_num)%2 != 0:\n",
    "        count_odd += 1\n",
    "        \n",
    "print(\"Number of odd digits:\",count_odd)       \n",
    "print(\"Number of non-zero even digits:\",count_eve)\n",
    "print(\"Number of zeros:\",count_zero)\n"
   ]
  },
  {
   "cell_type": "code",
   "execution_count": null,
   "metadata": {},
   "outputs": [],
   "source": [
    "# Write a program that takes a string as the input and does the following:\n",
    "\n",
    "    -Removes the numbers, special characters\n",
    "\n",
    "    -Converts uppercase letters to lowercase letters, and vice versa \n",
    "    \n",
    "Sample input:\n",
    "\n",
    "Programming1234\n",
    "\n",
    "\n",
    "\n",
    "Sample output:\n",
    "\n",
    "pROGRAMMING\n"
   ]
  },
  {
   "cell_type": "code",
   "execution_count": 80,
   "metadata": {},
   "outputs": [
    {
     "name": "stdout",
     "output_type": "stream",
     "text": [
      "2323ewe@\n",
      "EWE\n"
     ]
    }
   ],
   "source": [
    "input_string=input()\n",
    "output_str = \"\"\n",
    "for inp_char in input_string:\n",
    "            \n",
    "        if ((inp_char.isalpha()) and (inp_char.islower())):\n",
    "            inp_char = inp_char.upper()\n",
    "            \n",
    "        elif ((inp_char.isalpha()) and (inp_char.isupper())):\n",
    "            inp_char = inp_char.lower() \n",
    "        \n",
    "        elif (inp_char.isdigit()):\n",
    "            continue\n",
    "            \n",
    "        elif (ord(inp_char)>=32 and ord(inp_char)<=47)or (ord(inp_char)>=58 and ord(inp_char)<=64):\n",
    "            continue \n",
    "        \n",
    "        #elif (chr(inp_char)>=48 and chr(inp_char)<=57):\n",
    "            \n",
    "        \n",
    "        output_str = output_str + inp_char\n",
    "            \n",
    "print(output_str)        \n",
    "\n"
   ]
  },
  {
   "cell_type": "code",
   "execution_count": null,
   "metadata": {},
   "outputs": [],
   "source": [
    "s= \"were\"\n",
    "for i in s:\n",
    "    print(i)\n",
    "\n",
    "\n"
   ]
  },
  {
   "cell_type": "code",
   "execution_count": 75,
   "metadata": {},
   "outputs": [
    {
     "ename": "TypeError",
     "evalue": "an integer is required (got type str)",
     "output_type": "error",
     "traceback": [
      "\u001b[0;31m---------------------------------------------------------------------------\u001b[0m",
      "\u001b[0;31mTypeError\u001b[0m                                 Traceback (most recent call last)",
      "\u001b[0;32m<ipython-input-75-9df53c2e3fda>\u001b[0m in \u001b[0;36m<module>\u001b[0;34m\u001b[0m\n\u001b[0;32m----> 1\u001b[0;31m \u001b[0mchr\u001b[0m\u001b[0;34m(\u001b[0m\u001b[0;34m'$'\u001b[0m\u001b[0;34m)\u001b[0m\u001b[0;34m\u001b[0m\u001b[0;34m\u001b[0m\u001b[0m\n\u001b[0m",
      "\u001b[0;31mTypeError\u001b[0m: an integer is required (got type str)"
     ]
    }
   ],
   "source": [
    "\n",
    "chr('$')"
   ]
  },
  {
   "cell_type": "code",
   "execution_count": null,
   "metadata": {},
   "outputs": [],
   "source": []
  }
 ],
 "metadata": {
  "kernelspec": {
   "display_name": "Python 3",
   "language": "python",
   "name": "python3"
  },
  "language_info": {
   "codemirror_mode": {
    "name": "ipython",
    "version": 3
   },
   "file_extension": ".py",
   "mimetype": "text/x-python",
   "name": "python",
   "nbconvert_exporter": "python",
   "pygments_lexer": "ipython3",
   "version": "3.8.5"
  }
 },
 "nbformat": 4,
 "nbformat_minor": 4
}
